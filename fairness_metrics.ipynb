{
 "cells": [
  {
   "cell_type": "code",
   "execution_count": 1,
   "metadata": {},
   "outputs": [],
   "source": [
    "import numpy as np\n",
    "import pandas as pd\n",
    "from sklearn import metrics"
   ]
  },
  {
   "cell_type": "code",
   "execution_count": 2,
   "metadata": {},
   "outputs": [],
   "source": [
    "def predict(prob):\n",
    "    return (prob >= 0.5)\n",
    "\n",
    "def get_accuracy(y_pred, y):\n",
    "    return sum(1 for i in range(len(y)) if (predict(y_pred[i]) == y[i]))*100.0/len(y)\n",
    "\n",
    "# 1 - METRICS FROM WADSWORTH PAPER\n",
    "def get_roc_auc_score(y_pred, y):\n",
    "    return sklearn.metrics.roc_auc_score(y, y_pred)\n",
    "\n",
    "# protected variable z (array of 1s or 0s); calculate for demographic y_select (1 or 0)\n",
    "def demographic_parity_gap(y_pred, z, y_select):\n",
    "    m = len(y_pred)\n",
    "    prop_0 = sum(1 for i in range(m) if (z[i] == 0 and predict(y_pred[i]) == y_select))/(m-sum(z[i]))\n",
    "    prop_1 = sum(1 for i in range(m) if (z[i] == 1 and predict(y_pred[i]) == y_select))/sum(z[i])\n",
    "    return np.abs(prop_0 - prop_1)\n",
    "\n",
    "def false_positive_gap(y_pred, y, z):\n",
    "    m = len(y_pred)\n",
    "    fp_0 = sum(1 for i in range(m) if (z[i] == 0 and predict(y_pred[i] > y[i])))/(m-sum(z[i]))\n",
    "    fp_1 = sum(1 for i in range(m) if (z[i] == 1 and predict(y_pred[i] > y[i])))/sum(z[i])\n",
    "    return np.abs(fp_0 - fp_1)\n",
    "\n",
    "def false_negative_gap(y_pred, y, z):\n",
    "    m = len(y_pred)\n",
    "    fn_0 = sum(1 for i in range(m) if (z[i] == 0 and predict(y_pred[i] < y[i])))/(m-sum(z[i]))\n",
    "    fn_1 = sum(1 for i in range(m) if (z[i] == 1 and predict(y_pred[i] < y[i])))/sum(z[i])\n",
    "    return np.abs(fn_0 - fn_1)\n",
    "    \n",
    "# 2 - METRICS FROM ZHANG PAPER (somewhat redundant, but coded again for simplicity)\n",
    "def confusion_matrix(y_pred, y, z, z_select):\n",
    "    m = len(z)\n",
    "    m_select = sum(1 for i in range(m) if (z[i] == z_select))\n",
    "    true_pos = sum(1 for i in range(m) if (z[i] == z_select and y[i] == 1 and predict(y_pred[i]) == 1))\n",
    "    true_neg = sum(1 for i in range(m) if (z[i] == z_select and y[i] == 0 and predict(y_pred[i]) == 0))\n",
    "    false_pos = sum(1 for i in range(m) if (z[i] == z_select and predict(y_pred[i]) > y[i]))\n",
    "    false_neg = sum(1 for i in range(m) if (z[i] == z_select and y[i] > predict(y_pred[i])))\n",
    "    return [true_pos, true_neg, false_pos, false_neg]\n"
   ]
  },
  {
   "cell_type": "code",
   "execution_count": null,
   "metadata": {},
   "outputs": [],
   "source": []
  }
 ],
 "metadata": {
  "kernelspec": {
   "display_name": "Python 3",
   "language": "python",
   "name": "python3"
  },
  "language_info": {
   "codemirror_mode": {
    "name": "ipython",
    "version": 3
   },
   "file_extension": ".py",
   "mimetype": "text/x-python",
   "name": "python",
   "nbconvert_exporter": "python",
   "pygments_lexer": "ipython3",
   "version": "3.6.7"
  }
 },
 "nbformat": 4,
 "nbformat_minor": 2
}
