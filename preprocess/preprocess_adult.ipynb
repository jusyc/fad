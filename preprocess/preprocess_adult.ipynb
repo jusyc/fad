{
 "cells": [
  {
   "cell_type": "code",
   "execution_count": 35,
   "metadata": {},
   "outputs": [],
   "source": [
    "import numpy as np\n",
    "import pandas as pd\n",
    "from sklearn.model_selection import train_test_split"
   ]
  },
  {
   "cell_type": "code",
   "execution_count": 91,
   "metadata": {},
   "outputs": [],
   "source": [
    "path = '../data/adult/'"
   ]
  },
  {
   "cell_type": "code",
   "execution_count": 92,
   "metadata": {},
   "outputs": [],
   "source": [
    "train_file = path + 'adult.data'\n",
    "test_file = path + 'adult.test'"
   ]
  },
  {
   "cell_type": "code",
   "execution_count": 93,
   "metadata": {},
   "outputs": [],
   "source": [
    "def raw_to_df(fname):\n",
    "  return pd.read_csv(fname, header=None, delimiter = ' *, *', engine='python',\n",
    "                     names=['age', 'workclass', 'fnlwgt', 'education', 'education-num',\n",
    "                            'marital-status', 'occupation', 'relationship', 'race', 'sex',\n",
    "                            'capital-gain', 'capital-loss', 'hours-per-week',\n",
    "                            'native-country', 'income'])\n",
    "\n",
    "df_train_init = raw_to_df(train_file)\n",
    "df_test = raw_to_df(test_file)"
   ]
  },
  {
   "cell_type": "code",
   "execution_count": 94,
   "metadata": {},
   "outputs": [],
   "source": [
    "#separate original train into train and validation\n",
    "df_train, df_valid = train_test_split(df_train_init, test_size=0.2, random_state=1234)"
   ]
  },
  {
   "cell_type": "code",
   "execution_count": 95,
   "metadata": {},
   "outputs": [
    {
     "name": "stdout",
     "output_type": "stream",
     "text": [
      "(26048, 15)\n",
      "(6513, 15)\n",
      "(16281, 15)\n"
     ]
    }
   ],
   "source": [
    "print(df_train.shape)\n",
    "print(df_valid.shape)\n",
    "print(df_test.shape)"
   ]
  },
  {
   "cell_type": "code",
   "execution_count": 96,
   "metadata": {},
   "outputs": [],
   "source": [
    "# df_train[(df_train == '?').any(axis=1)]\n",
    "# df_valid[(df_valid == '?').any(axis=1)]\n",
    "# df_test[(df_test == '?').any(axis=1)]"
   ]
  },
  {
   "cell_type": "code",
   "execution_count": 97,
   "metadata": {},
   "outputs": [],
   "source": [
    "age_buckets = [0, 18, 25, 30, 35, 40, 45, 50, 55, 60, 65, float('+inf')]\n",
    "continuous_cols = ['capital-gain', 'capital-loss', 'education-num', 'hours-per-week']\n",
    "\n",
    "def featurize(df):\n",
    "  df = df.copy()\n",
    "  # income to binary classification\n",
    "  df['income'].replace(['<=50K', '<=50K.'], 0, inplace=True)\n",
    "  df['income'].replace(['>50K', '>50K.'], 1, inplace=True)\n",
    "  # prune columns\n",
    "  df.drop('fnlwgt', axis=1, inplace=True)\n",
    "  # bucket age\n",
    "  df['age'] = pd.cut(df['age'], age_buckets, right=False)\n",
    "  # one-hot\n",
    "  df = pd.get_dummies(df, sparse=True)\n",
    "  # split X, y\n",
    "  X = df.drop('income', axis=1)\n",
    "  y = df['income']\n",
    "  # normalize continuous cols in X\n",
    "  for col in continuous_cols:\n",
    "    X[col] = (X[col] - X[col].mean()) / X[col].std()\n",
    "  return X, y"
   ]
  },
  {
   "cell_type": "code",
   "execution_count": 98,
   "metadata": {},
   "outputs": [
    {
     "data": {
      "text/html": [
       "<div>\n",
       "<style scoped>\n",
       "    .dataframe tbody tr th:only-of-type {\n",
       "        vertical-align: middle;\n",
       "    }\n",
       "\n",
       "    .dataframe tbody tr th {\n",
       "        vertical-align: top;\n",
       "    }\n",
       "\n",
       "    .dataframe thead th {\n",
       "        text-align: right;\n",
       "    }\n",
       "</style>\n",
       "<table border=\"1\" class=\"dataframe\">\n",
       "  <thead>\n",
       "    <tr style=\"text-align: right;\">\n",
       "      <th></th>\n",
       "      <th>education-num</th>\n",
       "      <th>capital-gain</th>\n",
       "      <th>capital-loss</th>\n",
       "      <th>hours-per-week</th>\n",
       "      <th>age_[0.0, 18.0)</th>\n",
       "      <th>age_[18.0, 25.0)</th>\n",
       "      <th>age_[25.0, 30.0)</th>\n",
       "      <th>age_[30.0, 35.0)</th>\n",
       "      <th>age_[35.0, 40.0)</th>\n",
       "      <th>age_[40.0, 45.0)</th>\n",
       "      <th>...</th>\n",
       "      <th>native-country_Puerto-Rico</th>\n",
       "      <th>native-country_Scotland</th>\n",
       "      <th>native-country_South</th>\n",
       "      <th>native-country_Taiwan</th>\n",
       "      <th>native-country_Thailand</th>\n",
       "      <th>native-country_Trinadad&amp;Tobago</th>\n",
       "      <th>native-country_United-States</th>\n",
       "      <th>native-country_Vietnam</th>\n",
       "      <th>native-country_Yugoslavia</th>\n",
       "      <th>native-country_Holand-Netherlands</th>\n",
       "    </tr>\n",
       "  </thead>\n",
       "  <tbody>\n",
       "    <tr>\n",
       "      <th>29187</th>\n",
       "      <td>-0.422033</td>\n",
       "      <td>-0.146332</td>\n",
       "      <td>-0.219001</td>\n",
       "      <td>4.760819</td>\n",
       "      <td>0</td>\n",
       "      <td>0</td>\n",
       "      <td>0</td>\n",
       "      <td>1</td>\n",
       "      <td>0</td>\n",
       "      <td>0</td>\n",
       "      <td>...</td>\n",
       "      <td>0</td>\n",
       "      <td>0</td>\n",
       "      <td>0</td>\n",
       "      <td>0</td>\n",
       "      <td>0</td>\n",
       "      <td>0</td>\n",
       "      <td>1</td>\n",
       "      <td>0</td>\n",
       "      <td>0</td>\n",
       "      <td>0</td>\n",
       "    </tr>\n",
       "    <tr>\n",
       "      <th>23535</th>\n",
       "      <td>1.132479</td>\n",
       "      <td>-0.146332</td>\n",
       "      <td>-0.219001</td>\n",
       "      <td>-0.039399</td>\n",
       "      <td>0</td>\n",
       "      <td>0</td>\n",
       "      <td>0</td>\n",
       "      <td>0</td>\n",
       "      <td>0</td>\n",
       "      <td>0</td>\n",
       "      <td>...</td>\n",
       "      <td>0</td>\n",
       "      <td>0</td>\n",
       "      <td>0</td>\n",
       "      <td>0</td>\n",
       "      <td>0</td>\n",
       "      <td>0</td>\n",
       "      <td>1</td>\n",
       "      <td>0</td>\n",
       "      <td>0</td>\n",
       "      <td>0</td>\n",
       "    </tr>\n",
       "    <tr>\n",
       "      <th>14450</th>\n",
       "      <td>-0.422033</td>\n",
       "      <td>-0.146332</td>\n",
       "      <td>-0.219001</td>\n",
       "      <td>-0.039399</td>\n",
       "      <td>0</td>\n",
       "      <td>1</td>\n",
       "      <td>0</td>\n",
       "      <td>0</td>\n",
       "      <td>0</td>\n",
       "      <td>0</td>\n",
       "      <td>...</td>\n",
       "      <td>0</td>\n",
       "      <td>0</td>\n",
       "      <td>0</td>\n",
       "      <td>0</td>\n",
       "      <td>0</td>\n",
       "      <td>0</td>\n",
       "      <td>1</td>\n",
       "      <td>0</td>\n",
       "      <td>0</td>\n",
       "      <td>0</td>\n",
       "    </tr>\n",
       "    <tr>\n",
       "      <th>2727</th>\n",
       "      <td>-0.422033</td>\n",
       "      <td>-0.146332</td>\n",
       "      <td>-0.219001</td>\n",
       "      <td>-0.039399</td>\n",
       "      <td>0</td>\n",
       "      <td>0</td>\n",
       "      <td>0</td>\n",
       "      <td>1</td>\n",
       "      <td>0</td>\n",
       "      <td>0</td>\n",
       "      <td>...</td>\n",
       "      <td>0</td>\n",
       "      <td>0</td>\n",
       "      <td>0</td>\n",
       "      <td>0</td>\n",
       "      <td>0</td>\n",
       "      <td>0</td>\n",
       "      <td>1</td>\n",
       "      <td>0</td>\n",
       "      <td>0</td>\n",
       "      <td>0</td>\n",
       "    </tr>\n",
       "    <tr>\n",
       "      <th>18474</th>\n",
       "      <td>-0.033405</td>\n",
       "      <td>-0.146332</td>\n",
       "      <td>-0.219001</td>\n",
       "      <td>-1.666592</td>\n",
       "      <td>0</td>\n",
       "      <td>1</td>\n",
       "      <td>0</td>\n",
       "      <td>0</td>\n",
       "      <td>0</td>\n",
       "      <td>0</td>\n",
       "      <td>...</td>\n",
       "      <td>0</td>\n",
       "      <td>0</td>\n",
       "      <td>0</td>\n",
       "      <td>0</td>\n",
       "      <td>0</td>\n",
       "      <td>0</td>\n",
       "      <td>1</td>\n",
       "      <td>0</td>\n",
       "      <td>0</td>\n",
       "      <td>0</td>\n",
       "    </tr>\n",
       "  </tbody>\n",
       "</table>\n",
       "<p>5 rows × 117 columns</p>\n",
       "</div>"
      ],
      "text/plain": [
       "       education-num  capital-gain  capital-loss  hours-per-week  \\\n",
       "29187      -0.422033     -0.146332     -0.219001        4.760819   \n",
       "23535       1.132479     -0.146332     -0.219001       -0.039399   \n",
       "14450      -0.422033     -0.146332     -0.219001       -0.039399   \n",
       "2727       -0.422033     -0.146332     -0.219001       -0.039399   \n",
       "18474      -0.033405     -0.146332     -0.219001       -1.666592   \n",
       "\n",
       "       age_[0.0, 18.0)  age_[18.0, 25.0)  age_[25.0, 30.0)  age_[30.0, 35.0)  \\\n",
       "29187                0                 0                 0                 1   \n",
       "23535                0                 0                 0                 0   \n",
       "14450                0                 1                 0                 0   \n",
       "2727                 0                 0                 0                 1   \n",
       "18474                0                 1                 0                 0   \n",
       "\n",
       "       age_[35.0, 40.0)  age_[40.0, 45.0)                ...                  \\\n",
       "29187                 0                 0                ...                   \n",
       "23535                 0                 0                ...                   \n",
       "14450                 0                 0                ...                   \n",
       "2727                  0                 0                ...                   \n",
       "18474                 0                 0                ...                   \n",
       "\n",
       "       native-country_Puerto-Rico  native-country_Scotland  \\\n",
       "29187                           0                        0   \n",
       "23535                           0                        0   \n",
       "14450                           0                        0   \n",
       "2727                            0                        0   \n",
       "18474                           0                        0   \n",
       "\n",
       "       native-country_South  native-country_Taiwan  native-country_Thailand  \\\n",
       "29187                     0                      0                        0   \n",
       "23535                     0                      0                        0   \n",
       "14450                     0                      0                        0   \n",
       "2727                      0                      0                        0   \n",
       "18474                     0                      0                        0   \n",
       "\n",
       "       native-country_Trinadad&Tobago  native-country_United-States  \\\n",
       "29187                               0                             1   \n",
       "23535                               0                             1   \n",
       "14450                               0                             1   \n",
       "2727                                0                             1   \n",
       "18474                               0                             1   \n",
       "\n",
       "       native-country_Vietnam  native-country_Yugoslavia  \\\n",
       "29187                       0                          0   \n",
       "23535                       0                          0   \n",
       "14450                       0                          0   \n",
       "2727                        0                          0   \n",
       "18474                       0                          0   \n",
       "\n",
       "       native-country_Holand-Netherlands  \n",
       "29187                                  0  \n",
       "23535                                  0  \n",
       "14450                                  0  \n",
       "2727                                   0  \n",
       "18474                                  0  \n",
       "\n",
       "[5 rows x 117 columns]"
      ]
     },
     "execution_count": 98,
     "metadata": {},
     "output_type": "execute_result"
    }
   ],
   "source": [
    "X_train.head()"
   ]
  },
  {
   "cell_type": "code",
   "execution_count": 99,
   "metadata": {},
   "outputs": [],
   "source": [
    "X_train, y_train = featurize(df_train)\n",
    "X_valid, y_valid = featurize(df_valid)\n",
    "X_test, y_test = featurize(df_test)"
   ]
  },
  {
   "cell_type": "code",
   "execution_count": 107,
   "metadata": {},
   "outputs": [
    {
     "name": "stdout",
     "output_type": "stream",
     "text": [
      "(26048, 117)\n",
      "(16281, 117)\n",
      "(6513, 117)\n"
     ]
    }
   ],
   "source": [
    "# make sure train and test are not missing features\n",
    "def match_cols(a, b):\n",
    "  b_missing = set(a.columns) - set(b.columns)\n",
    "  a_missing = set(b.columns) - set(a.columns)\n",
    "  for col in a_missing:\n",
    "    a[col] = 0\n",
    "  for col in b_missing:\n",
    "    b[col] = 0\n",
    "\n",
    "match_cols(X_train, X_test)\n",
    "match_cols(X_train, X_valid)\n",
    "match_cols(X_test, X_valid)\n",
    "print(X_train.shape)\n",
    "print(X_test.shape)\n",
    "print(X_valid.shape)"
   ]
  },
  {
   "cell_type": "code",
   "execution_count": 108,
   "metadata": {},
   "outputs": [
    {
     "name": "stdout",
     "output_type": "stream",
     "text": [
      "['White' 'Black' 'Other' 'Amer-Indian-Eskimo' 'Asian-Pac-Islander']\n",
      "['Female' 'Male']\n",
      "[ 3  8  1  6  2  4  7  5  9 10  0]\n"
     ]
    }
   ],
   "source": [
    "print(df_train['race'].unique())\n",
    "print(df_train['sex'].unique())\n",
    "age_train = pd.cut(df_train['age'], age_buckets, right=False, labels=range(11)).astype(int)\n",
    "age_valid = pd.cut(df_valid['age'], age_buckets, right=False, labels=range(11)).astype(int)\n",
    "age_test = pd.cut(df_test['age'], age_buckets, right=False, labels=range(11)).astype(int)\n",
    "print(age_train.unique())"
   ]
  },
  {
   "cell_type": "code",
   "execution_count": 109,
   "metadata": {},
   "outputs": [
    {
     "data": {
      "text/plain": [
       "29187    0\n",
       "23535    0\n",
       "14450    0\n",
       "2727     0\n",
       "18474    0\n",
       "Name: race, dtype: int64"
      ]
     },
     "execution_count": 109,
     "metadata": {},
     "output_type": "execute_result"
    }
   ],
   "source": [
    "race_ids = {'White': 0, 'Black': 1, 'Asian-Pac-Islander': 2, 'Amer-Indian-Eskimo': 3, 'Other': 4}\n",
    "sex_ids = {'Male': 0, 'Female': 1}\n",
    "\n",
    "def featurize_protected(df, protected, id_map):\n",
    "  col = df[protected].copy()\n",
    "  col.replace(id_map, inplace=True)\n",
    "  return col\n",
    "\n",
    "race_train = featurize_protected(df_train, 'race', race_ids)\n",
    "race_valid = featurize_protected(df_valid, 'race', race_ids)\n",
    "race_test = featurize_protected(df_test, 'race', race_ids)\n",
    "sex_train = featurize_protected(df_train, 'sex', sex_ids)\n",
    "sex_valid = featurize_protected(df_valid, 'sex', sex_ids)\n",
    "sex_test = featurize_protected(df_test, 'sex', sex_ids)\n",
    "race_train.head()"
   ]
  },
  {
   "cell_type": "code",
   "execution_count": 110,
   "metadata": {},
   "outputs": [],
   "source": [
    "X_train.to_pickle(path + 'X_train.pkl')\n",
    "y_train.to_pickle(path + 'y_train.pkl')\n",
    "\n",
    "X_valid.to_pickle(path + 'X_valid.pkl')\n",
    "y_valid.to_pickle(path + 'y_valid.pkl')\n",
    "\n",
    "X_test.to_pickle(path + 'X_test.pkl')\n",
    "y_test.to_pickle(path + 'y_test.pkl')\n",
    "\n",
    "race_train.to_pickle(path + 'race_train.pkl')\n",
    "race_valid.to_pickle(path + 'race_valid.pkl')\n",
    "race_test.to_pickle(path + 'race_test.pkl')\n",
    "\n",
    "sex_train.to_pickle(path + 'sex_train.pkl')\n",
    "sex_valid.to_pickle(path + 'sex_valid.pkl')\n",
    "sex_test.to_pickle(path + 'sex_test.pkl')\n",
    "\n",
    "age_train.to_pickle(path + 'age_train.pkl')\n",
    "age_valid.to_pickle(path + 'age_valid.pkl')\n",
    "age_test.to_pickle(path + 'age_test.pkl')"
   ]
  },
  {
   "cell_type": "code",
   "execution_count": 111,
   "metadata": {},
   "outputs": [
    {
     "name": "stdout",
     "output_type": "stream",
     "text": [
      "TRAIN prop women:  32.89695945945946\n",
      "TRAIN prop men:  67.10304054054055\n",
      "TEST prop women:  33.29648056016215\n",
      "TEST prop men:  66.70351943983785\n",
      "Total pop women:  33.050627229558934\n",
      "Total pop men:  66.94937277044107\n"
     ]
    }
   ],
   "source": [
    "# NOW COMPUTE STATS ON TRAIN AND TEST -- OUT OF DATE AS NOT COMPUTED ON VALID\n",
    "\n",
    "num_train = sum(1 for i,j in sex_train.iteritems())\n",
    "num_test = sum(1 for i,j in sex_test.iteritems())\n",
    "\n",
    "print (\"TRAIN prop women: \", 100.0*sum(1 for i, j in sex_train.iteritems() if (j == 1))/num_train)\n",
    "print (\"TRAIN prop men: \", 100.0*sum(1 for i, j in sex_train.iteritems() if (j == 0))/num_train)\n",
    "\n",
    "print (\"TEST prop women: \", 100.0*sum(1 for i, j in sex_test.iteritems() if (j == 1))/num_test)\n",
    "print (\"TEST prop men: \", 100.0*sum(1 for i, j in sex_test.iteritems() if (j == 0))/num_test)\n",
    "\n",
    "print (\"Total pop women: \", 100.0*(sum(1 for i, j in sex_train.iteritems() if (j == 1)) + sum(1 for i, j in sex_test.iteritems() if (j == 1)))/(num_train+num_test))\n",
    "print (\"Total pop men: \", 100.0*(sum(1 for i, j in sex_train.iteritems() if (j == 0)) + sum(1 for i, j in sex_test.iteritems() if (j == 0)))/(num_train+num_test))"
   ]
  },
  {
   "cell_type": "code",
   "execution_count": 112,
   "metadata": {},
   "outputs": [
    {
     "name": "stdout",
     "output_type": "stream",
     "text": [
      "Total race pop demographic  0 :  85.51584020411538\n",
      "Total race pop demographic  1 :  9.570270972619245\n",
      "Total race pop demographic  2 :  3.1066172127855607\n",
      "Total race pop demographic  3 :  0.9709655319048407\n",
      "Total race pop demographic  4 :  0.8363060785749722\n"
     ]
    }
   ],
   "source": [
    "num_train = sum(1 for i,j in race_train.iteritems())\n",
    "num_test = sum(1 for i,j in race_test.iteritems())\n",
    "\n",
    "for q in range(5):\n",
    "    print (\"Total race pop demographic \", q, \": \", 100.0*(sum(1 for i, j in race_train.iteritems() if (j == q)) + sum(1 for i, j in race_test.iteritems() if (j == q)))/(num_train+num_test))\n"
   ]
  },
  {
   "cell_type": "code",
   "execution_count": 113,
   "metadata": {},
   "outputs": [
    {
     "name": "stdout",
     "output_type": "stream",
     "text": [
      "Total age pop demographic  0 :  1.245009331663871\n",
      "Total age pop demographic  1 :  16.064636537598336\n",
      "Total age pop demographic  2 :  12.471355335585532\n",
      "Total age pop demographic  3 :  13.279312055564743\n",
      "Total age pop demographic  4 :  13.22970067802216\n",
      "Total age pop demographic  5 :  11.729547118996432\n",
      "Total age pop demographic  6 :  10.123083465236599\n",
      "Total age pop demographic  7 :  7.772449148338019\n",
      "Total age pop demographic  8 :  5.7336577759928185\n",
      "Total age pop demographic  9 :  4.077582744690401\n",
      "Total age pop demographic  10 :  4.273665808311087\n",
      "100.00000000000003\n"
     ]
    }
   ],
   "source": [
    "num_train = sum(1 for i,j in age_train.iteritems())\n",
    "num_test = sum(1 for i,j in age_test.iteritems())\n",
    "s = 0\n",
    "for q in range(11):\n",
    "    s += 100.0*(sum(1 for i, j in age_train.iteritems() if (j == q)) + sum(1 for i, j in age_test.iteritems() if (j == q)))/(num_train+num_test)\n",
    "    print (\"Total age pop demographic \", q, \": \", 100.0*(sum(1 for i, j in age_train.iteritems() if (j == q)) + sum(1 for i, j in age_test.iteritems() if (j == q)))/(num_train+num_test))\n",
    "print(s)"
   ]
  },
  {
   "cell_type": "code",
   "execution_count": null,
   "metadata": {},
   "outputs": [],
   "source": []
  }
 ],
 "metadata": {
  "kernelspec": {
   "display_name": "Python 3",
   "language": "python",
   "name": "python3"
  },
  "language_info": {
   "codemirror_mode": {
    "name": "ipython",
    "version": 3
   },
   "file_extension": ".py",
   "mimetype": "text/x-python",
   "name": "python",
   "nbconvert_exporter": "python",
   "pygments_lexer": "ipython3",
   "version": "3.6.7"
  }
 },
 "nbformat": 4,
 "nbformat_minor": 2
}
