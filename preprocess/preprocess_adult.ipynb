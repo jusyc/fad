{
 "cells": [
  {
   "cell_type": "code",
   "execution_count": 1,
   "metadata": {},
   "outputs": [
    {
     "ename": "ImportError",
     "evalue": "No module named sklearn.model_selection",
     "output_type": "error",
     "traceback": [
      "\u001b[0;31m---------------------------------------------------------------------------\u001b[0m",
      "\u001b[0;31mImportError\u001b[0m                               Traceback (most recent call last)",
      "\u001b[0;32m<ipython-input-1-8f264c484124>\u001b[0m in \u001b[0;36m<module>\u001b[0;34m()\u001b[0m\n\u001b[1;32m      1\u001b[0m \u001b[0;32mimport\u001b[0m \u001b[0mnumpy\u001b[0m \u001b[0;32mas\u001b[0m \u001b[0mnp\u001b[0m\u001b[0;34m\u001b[0m\u001b[0m\n\u001b[1;32m      2\u001b[0m \u001b[0;32mimport\u001b[0m \u001b[0mpandas\u001b[0m \u001b[0;32mas\u001b[0m \u001b[0mpd\u001b[0m\u001b[0;34m\u001b[0m\u001b[0m\n\u001b[0;32m----> 3\u001b[0;31m \u001b[0;32mfrom\u001b[0m \u001b[0msklearn\u001b[0m\u001b[0;34m.\u001b[0m\u001b[0mmodel_selection\u001b[0m \u001b[0;32mimport\u001b[0m \u001b[0mtrain_test_split\u001b[0m\u001b[0;34m\u001b[0m\u001b[0m\n\u001b[0m",
      "\u001b[0;31mImportError\u001b[0m: No module named sklearn.model_selection"
     ]
    }
   ],
   "source": [
    "import numpy as np\n",
    "import pandas as pd\n",
    "from sklearn.model_selection import train_test_split"
   ]
  },
  {
   "cell_type": "code",
   "execution_count": 5,
   "metadata": {},
   "outputs": [],
   "source": [
    "path = '../data/adult/'"
   ]
  },
  {
   "cell_type": "code",
   "execution_count": null,
   "metadata": {},
   "outputs": [],
   "source": [
    "train_file = path + 'adult.data'\n",
    "test_file = path + 'adult.test'"
   ]
  },
  {
   "cell_type": "code",
   "execution_count": null,
   "metadata": {},
   "outputs": [],
   "source": [
    "def raw_to_df(fname):\n",
    "  return pd.read_csv(fname, header=None, delimiter = ' *, *', engine='python',\n",
    "                     names=['age', 'workclass', 'fnlwgt', 'education', 'education-num',\n",
    "                            'marital-status', 'occupation', 'relationship', 'race', 'sex',\n",
    "                            'capital-gain', 'capital-loss', 'hours-per-week',\n",
    "                            'native-country', 'income'])\n",
    "\n",
    "df_train_init = raw_to_df(train_file)\n",
    "df_test = raw_to_df(test_file)"
   ]
  },
  {
   "cell_type": "code",
   "execution_count": null,
   "metadata": {},
   "outputs": [],
   "source": [
    "#separate original train into train and validation\n",
    "df_train, df_valid = train_test_split(df_train_init, test_size=0.05)"
   ]
  },
  {
   "cell_type": "code",
   "execution_count": null,
   "metadata": {},
   "outputs": [],
   "source": [
    "print(df_train.shape)\n",
    "print(df.valid.shape)\n",
    "print(df_test.shape)"
   ]
  },
  {
   "cell_type": "code",
   "execution_count": null,
   "metadata": {},
   "outputs": [],
   "source": [
    "df_train[(df_train == '?').any(axis=1)]"
   ]
  },
  {
   "cell_type": "code",
   "execution_count": null,
   "metadata": {},
   "outputs": [],
   "source": [
    "age_buckets = [0, 18, 25, 30, 35, 40, 45, 50, 55, 60, 65, float('+inf')]\n",
    "continuous_cols = ['capital-gain', 'capital-loss', 'education-num', 'hours-per-week']\n",
    "\n",
    "def featurize(df):\n",
    "  df = df.copy()\n",
    "  # income to binary classification\n",
    "  df['income'].replace(['<=50K', '<=50K.'], 0, inplace=True)\n",
    "  df['income'].replace(['>50K', '>50K.'], 1, inplace=True)\n",
    "  # prune columns\n",
    "  df.drop('fnlwgt', axis=1, inplace=True)\n",
    "  # bucket age\n",
    "  df['age'] = pd.cut(df['age'], age_buckets, right=False)\n",
    "  # one-hot\n",
    "  df = pd.get_dummies(df, sparse=True)\n",
    "  # split X, y\n",
    "  X = df.drop('income', axis=1)\n",
    "  y = df['income']\n",
    "  # normalize continuous cols in X\n",
    "  for col in continuous_cols:\n",
    "    X[col] = (X[col] - X[col].mean()) / X[col].std()\n",
    "  return X, y"
   ]
  },
  {
   "cell_type": "code",
   "execution_count": null,
   "metadata": {},
   "outputs": [],
   "source": [
    "X_train, y_train = featurize(df_train)\n",
    "X_valid, y_valid = featurize(df_valid)\n",
    "X_test, y_test = featurize(df_test)"
   ]
  },
  {
   "cell_type": "code",
   "execution_count": null,
   "metadata": {},
   "outputs": [],
   "source": [
    "# make sure train and test are not missing features\n",
    "def match_cols(a, b):\n",
    "  b_missing = set(a.columns) - set(b.columns)\n",
    "  a_missing = set(b.columns) - set(a.columns)\n",
    "  for col in a_missing:\n",
    "    a[col] = 0\n",
    "  for col in b_missing:\n",
    "    b[col] = 0\n",
    "\n",
    "match_cols(X_train, X_test)\n",
    "match_cols(X_train, X_valid)\n",
    "print(X_train.shape)\n",
    "print(X_test.shape)\n",
    "print(X_valid.shape)"
   ]
  },
  {
   "cell_type": "code",
   "execution_count": null,
   "metadata": {},
   "outputs": [],
   "source": [
    "print(df_train['race'].unique())\n",
    "print(df_train['sex'].unique())\n",
    "nums = [str(i) for i in range(11)]\n",
    "print(nums)\n",
    "df_train['age'] = pd.cut(df_train['age'], age_buckets, right=False, labels=range(11))\n",
    "df_valid['age'] = pd.cut(df_valid['age'], age_buckets, right=False, labels=range(11))\n",
    "df_test['age'] = pd.cut(df_test['age'], age_buckets, right=False, labels=range(11))\n",
    "print(df_train['age'].unique())"
   ]
  },
  {
   "cell_type": "code",
   "execution_count": null,
   "metadata": {},
   "outputs": [],
   "source": [
    "race_ids = {'White': 0, 'Black': 1, 'Asian-Pac-Islander': 2, 'Amer-Indian-Eskimo': 3, 'Other': 4}\n",
    "sex_ids = {'Male': 0, 'Female': 1}\n",
    "\n",
    "def featurize_protected(df, protected, id_map):\n",
    "  col = df[protected].copy()\n",
    "  col.replace(id_map, inplace=True)\n",
    "  return col\n",
    "\n",
    "race_train = featurize_protected(df_train, 'race', race_ids)\n",
    "race_valid = featurize_protected(df_valid, 'race', race_ids)\n",
    "race_test = featurize_protected(df_test, 'race', race_ids)\n",
    "sex_train = featurize_protected(df_train, 'sex', sex_ids)\n",
    "sex_valid = featurize_protected(df_valid, 'sex', sex_ids)\n",
    "sex_test = featurize_protected(df_test, 'sex', sex_ids)\n",
    "age_train = df_train['age'].copy()\n",
    "age_valid = df_valid['age'].copy()\n",
    "age_test = df_test['age'].copy()"
   ]
  },
  {
   "cell_type": "code",
   "execution_count": 145,
   "metadata": {},
   "outputs": [],
   "source": [
    "X_train.to_pickle(path + 'X_train.pkl')\n",
    "y_train.to_pickle(path + 'y_train.pkl')\n",
    "\n",
    "X_valid.to_pickle(path + 'X_valid.pkl')\n",
    "y_valid.to_pickle(path + 'y_valid.pkl')\n",
    "\n",
    "X_test.to_pickle(path + 'X_test.pkl')\n",
    "y_test.to_pickle(path + 'y_test.pkl')\n",
    "\n",
    "race_train.to_pickle(path + 'race_train.pkl')\n",
    "race_valid.to_pickle(path + 'race_valid.pkl')\n",
    "race_test.to_pickle(path + 'race_test.pkl')\n",
    "\n",
    "sex_train.to_pickle(path + 'sex_train.pkl')\n",
    "sex_valid.to_pickle(path + 'sex_valid.pkl')\n",
    "sex_test.to_pickle(path + 'sex_test.pkl')\n",
    "\n",
    "age_train.to_pickle(path + 'age_train.pkl')\n",
    "age_valid.to_pickle(path + 'age_valid.pkl')\n",
    "age_test.to_pickle(path + 'age_test.pkl')"
   ]
  },
  {
   "cell_type": "code",
   "execution_count": 149,
   "metadata": {},
   "outputs": [
    {
     "name": "stdout",
     "output_type": "stream",
     "text": [
      "('TRAIN prop women: ', 33.07945087681582)\n",
      "('TRAIN prop men: ', 66.92054912318417)\n",
      "('TEST prop women: ', 33.29648056016215)\n",
      "('TEST prop men: ', 66.70351943983785)\n",
      "('Total pop women: ', 33.15179558576635)\n",
      "('Total pop men: ', 66.84820441423365)\n"
     ]
    }
   ],
   "source": [
    "# NOW COMPUTE STATS ON TRAIN AND TEST -- OUT OF DATE AS NOT COMPUTED ON VALID\n",
    "\n",
    "num_train = sum(1 for i,j in sex_train.iteritems())\n",
    "num_test = sum(1 for i,j in sex_test.iteritems())\n",
    "\n",
    "print (\"TRAIN prop women: \", 100.0*sum(1 for i, j in sex_train.iteritems() if (j == 1))/num_train)\n",
    "print (\"TRAIN prop men: \", 100.0*sum(1 for i, j in sex_train.iteritems() if (j == 0))/num_train)\n",
    "\n",
    "print (\"TEST prop women: \", 100.0*sum(1 for i, j in sex_test.iteritems() if (j == 1))/num_test)\n",
    "print (\"TEST prop men: \", 100.0*sum(1 for i, j in sex_test.iteritems() if (j == 0))/num_test)\n",
    "\n",
    "print (\"Total pop women: \", 100.0*(sum(1 for i, j in sex_train.iteritems() if (j == 1)) + sum(1 for i, j in sex_test.iteritems() if (j == 1)))/(num_train+num_test))\n",
    "print (\"Total pop men: \", 100.0*(sum(1 for i, j in sex_train.iteritems() if (j == 0)) + sum(1 for i, j in sex_test.iteritems() if (j == 0)))/(num_train+num_test))"
   ]
  },
  {
   "cell_type": "code",
   "execution_count": 150,
   "metadata": {},
   "outputs": [
    {
     "name": "stdout",
     "output_type": "stream",
     "text": [
      "('Total race pop demographic ', 0, ': ', 85.5042791040498)\n",
      "('Total race pop demographic ', 1, ': ', 9.592154293435977)\n",
      "('Total race pop demographic ', 2, ': ', 3.110028254371238)\n",
      "('Total race pop demographic ', 3, ': ', 0.9622865566520618)\n",
      "('Total race pop demographic ', 4, ': ', 0.83125179149093)\n"
     ]
    }
   ],
   "source": [
    "num_train = sum(1 for i,j in race_train.iteritems())\n",
    "num_test = sum(1 for i,j in race_test.iteritems())\n",
    "\n",
    "for q in range(5):\n",
    "    print (\"Total race pop demographic \", q, \": \", 100.0*(sum(1 for i, j in race_train.iteritems() if (j == q)) + sum(1 for i, j in race_test.iteritems() if (j == q)))/(num_train+num_test))\n"
   ]
  },
  {
   "cell_type": "code",
   "execution_count": 151,
   "metadata": {},
   "outputs": [
    {
     "name": "stdout",
     "output_type": "stream",
     "text": [
      "('Total age pop demographic ', 0, ': ', 1.2182138323573972)\n",
      "('Total age pop demographic ', 1, ': ', 16.04561647762172)\n",
      "('Total age pop demographic ', 2, ': ', 12.45444494492445)\n",
      "('Total age pop demographic ', 3, ': ', 13.295933827443594)\n",
      "('Total age pop demographic ', 4, ': ', 13.175136153310675)\n",
      "('Total age pop demographic ', 5, ': ', 11.789034028090578)\n",
      "('Total age pop demographic ', 6, ': ', 10.167478809221572)\n",
      "('Total age pop demographic ', 7, ': ', 7.790426272470415)\n",
      "('Total age pop demographic ', 8, ': ', 5.761434830678515)\n",
      "('Total age pop demographic ', 9, ': ', 4.029319028704803)\n",
      "('Total age pop demographic ', 10, ': ', 4.272961795176283)\n",
      "100.0\n"
     ]
    }
   ],
   "source": [
    "num_train = sum(1 for i,j in age_train.iteritems())\n",
    "num_test = sum(1 for i,j in age_test.iteritems())\n",
    "s = 0\n",
    "for q in range(11):\n",
    "    s += 100.0*(sum(1 for i, j in age_train.iteritems() if (j == q)) + sum(1 for i, j in age_test.iteritems() if (j == q)))/(num_train+num_test)\n",
    "    print (\"Total age pop demographic \", q, \": \", 100.0*(sum(1 for i, j in age_train.iteritems() if (j == q)) + sum(1 for i, j in age_test.iteritems() if (j == q)))/(num_train+num_test))\n",
    "print(s)"
   ]
  },
  {
   "cell_type": "code",
   "execution_count": null,
   "metadata": {},
   "outputs": [],
   "source": []
  }
 ],
 "metadata": {
  "kernelspec": {
   "display_name": "Python 3",
   "language": "python",
   "name": "python3"
  },
  "language_info": {
   "codemirror_mode": {
    "name": "ipython",
    "version": 3
   },
   "file_extension": ".py",
   "mimetype": "text/x-python",
   "name": "python",
   "nbconvert_exporter": "python",
   "pygments_lexer": "ipython3",
   "version": "3.6.7"
  }
 },
 "nbformat": 4,
 "nbformat_minor": 2
}
